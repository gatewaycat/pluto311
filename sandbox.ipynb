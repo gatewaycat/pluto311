{
 "cells": [
  {
   "cell_type": "code",
   "execution_count": 1,
   "metadata": {},
   "outputs": [
    {
     "name": "stdout",
     "output_type": "stream",
     "text": [
      "CPU times: user 2.68 s, sys: 1.02 s, total: 3.7 s\n",
      "Wall time: 3.76 s\n",
      "CPU times: user 1.51 s, sys: 953 ms, total: 2.46 s\n",
      "Wall time: 2.82 s\n"
     ]
    }
   ],
   "source": [
    "from IPython.core.interactiveshell import InteractiveShell\n",
    "import numpy as np\n",
    "import pandas as pd\n",
    "import seaborn as sns\n",
    "\n",
    "InteractiveShell.ast_node_interactivity = \"all\"\n",
    "\n",
    "%time df311 = pd.read_pickle('data/311.pkl')\n",
    "%time pluto = pd.read_pickle('data/pluto_full.pkl')"
   ]
  },
  {
   "cell_type": "code",
   "execution_count": 2,
   "metadata": {},
   "outputs": [
    {
     "data": {
      "text/html": [
       "<div>\n",
       "<style scoped>\n",
       "    .dataframe tbody tr th:only-of-type {\n",
       "        vertical-align: middle;\n",
       "    }\n",
       "\n",
       "    .dataframe tbody tr th {\n",
       "        vertical-align: top;\n",
       "    }\n",
       "\n",
       "    .dataframe thead th {\n",
       "        text-align: right;\n",
       "    }\n",
       "</style>\n",
       "<table border=\"1\" class=\"dataframe\">\n",
       "  <thead>\n",
       "    <tr style=\"text-align: right;\">\n",
       "      <th></th>\n",
       "      <th>Key</th>\n",
       "      <th>Created</th>\n",
       "      <th>Closed</th>\n",
       "      <th>...</th>\n",
       "      <th>Boro</th>\n",
       "      <th>Latitude</th>\n",
       "      <th>Longitude</th>\n",
       "    </tr>\n",
       "  </thead>\n",
       "  <tbody>\n",
       "    <tr>\n",
       "      <td>0</td>\n",
       "      <td>45531130</td>\n",
       "      <td>2020-02-02 06:09:17</td>\n",
       "      <td>NaT</td>\n",
       "      <td>...</td>\n",
       "      <td>MANHATTAN</td>\n",
       "      <td>40.765132</td>\n",
       "      <td>-73.988993</td>\n",
       "    </tr>\n",
       "    <tr>\n",
       "      <td>...</td>\n",
       "      <td>...</td>\n",
       "      <td>...</td>\n",
       "      <td>...</td>\n",
       "      <td>...</td>\n",
       "      <td>...</td>\n",
       "      <td>...</td>\n",
       "      <td>...</td>\n",
       "    </tr>\n",
       "    <tr>\n",
       "      <td>6019842</td>\n",
       "      <td>44063737</td>\n",
       "      <td>2019-10-15 11:29:01</td>\n",
       "      <td>2019-10-15 21:19:45</td>\n",
       "      <td>...</td>\n",
       "      <td>MANHATTAN</td>\n",
       "      <td>40.724749</td>\n",
       "      <td>-73.975269</td>\n",
       "    </tr>\n",
       "  </tbody>\n",
       "</table>\n",
       "<p>6019843 rows × 14 columns</p>\n",
       "</div>"
      ],
      "text/plain": [
       "              Key             Created              Closed  ...       Boro  \\\n",
       "0        45531130 2020-02-02 06:09:17                 NaT  ...  MANHATTAN   \n",
       "...           ...                 ...                 ...  ...        ...   \n",
       "6019842  44063737 2019-10-15 11:29:01 2019-10-15 21:19:45  ...  MANHATTAN   \n",
       "\n",
       "          Latitude  Longitude  \n",
       "0        40.765132 -73.988993  \n",
       "...            ...        ...  \n",
       "6019842  40.724749 -73.975269  \n",
       "\n",
       "[6019843 rows x 14 columns]"
      ]
     },
     "execution_count": 2,
     "metadata": {},
     "output_type": "execute_result"
    },
    {
     "data": {
      "text/html": [
       "<div>\n",
       "<style scoped>\n",
       "    .dataframe tbody tr th:only-of-type {\n",
       "        vertical-align: middle;\n",
       "    }\n",
       "\n",
       "    .dataframe tbody tr th {\n",
       "        vertical-align: top;\n",
       "    }\n",
       "\n",
       "    .dataframe thead th {\n",
       "        text-align: right;\n",
       "    }\n",
       "</style>\n",
       "<table border=\"1\" class=\"dataframe\">\n",
       "  <thead>\n",
       "    <tr style=\"text-align: right;\">\n",
       "      <th></th>\n",
       "      <th>Borough</th>\n",
       "      <th>Block</th>\n",
       "      <th>Lot</th>\n",
       "      <th>...</th>\n",
       "      <th>Version</th>\n",
       "      <th>FIRM07_Flag</th>\n",
       "      <th>PFIRM15_Flag</th>\n",
       "    </tr>\n",
       "  </thead>\n",
       "  <tbody>\n",
       "    <tr>\n",
       "      <td>0</td>\n",
       "      <td>BK</td>\n",
       "      <td>1</td>\n",
       "      <td>1</td>\n",
       "      <td>...</td>\n",
       "      <td>18V1</td>\n",
       "      <td>NaN</td>\n",
       "      <td>NaN</td>\n",
       "    </tr>\n",
       "    <tr>\n",
       "      <td>...</td>\n",
       "      <td>...</td>\n",
       "      <td>...</td>\n",
       "      <td>...</td>\n",
       "      <td>...</td>\n",
       "      <td>...</td>\n",
       "      <td>...</td>\n",
       "      <td>...</td>\n",
       "    </tr>\n",
       "    <tr>\n",
       "      <td>859211</td>\n",
       "      <td>SI</td>\n",
       "      <td>8050</td>\n",
       "      <td>94</td>\n",
       "      <td>...</td>\n",
       "      <td>18V1</td>\n",
       "      <td>NaN</td>\n",
       "      <td>NaN</td>\n",
       "    </tr>\n",
       "  </tbody>\n",
       "</table>\n",
       "<p>859212 rows × 89 columns</p>\n",
       "</div>"
      ],
      "text/plain": [
       "       Borough  Block  Lot  ...  Version  FIRM07_Flag  PFIRM15_Flag\n",
       "0           BK      1    1  ...     18V1          NaN           NaN\n",
       "...        ...    ...  ...  ...      ...          ...           ...\n",
       "859211      SI   8050   94  ...     18V1          NaN           NaN\n",
       "\n",
       "[859212 rows x 89 columns]"
      ]
     },
     "execution_count": 2,
     "metadata": {},
     "output_type": "execute_result"
    }
   ],
   "source": [
    "pd.options.display.max_rows = 2\n",
    "pd.options.display.max_columns = 7\n",
    "df311\n",
    "pluto"
   ]
  }
 ],
 "metadata": {
  "kernelspec": {
   "display_name": "Python 3",
   "language": "python",
   "name": "python3"
  },
  "language_info": {
   "codemirror_mode": {
    "name": "ipython",
    "version": 3
   },
   "file_extension": ".py",
   "mimetype": "text/x-python",
   "name": "python",
   "nbconvert_exporter": "python",
   "pygments_lexer": "ipython3",
   "version": "3.7.4"
  }
 },
 "nbformat": 4,
 "nbformat_minor": 4
}
