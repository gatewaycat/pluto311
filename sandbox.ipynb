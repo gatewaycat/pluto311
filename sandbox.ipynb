{
 "cells": [
  {
   "cell_type": "code",
   "execution_count": 1,
   "metadata": {},
   "outputs": [
    {
     "name": "stdout",
     "output_type": "stream",
     "text": [
      "CPU times: user 2.79 s, sys: 1.59 s, total: 4.38 s\n",
      "Wall time: 5.32 s\n",
      "CPU times: user 1.61 s, sys: 1.1 s, total: 2.71 s\n",
      "Wall time: 3.28 s\n"
     ]
    }
   ],
   "source": [
    "from IPython.core.interactiveshell import InteractiveShell\n",
    "import numpy as np\n",
    "import pandas as pd\n",
    "import seaborn as sns\n",
    "\n",
    "InteractiveShell.ast_node_interactivity = \"all\"\n",
    "\n",
    "%time df311 = pd.read_pickle('311.pkl')\n",
    "%time pluto = pd.read_pickle('pluto_full.pkl')"
   ]
  },
  {
   "cell_type": "code",
   "execution_count": 2,
   "metadata": {},
   "outputs": [
    {
     "data": {
      "text/html": [
       "<div>\n",
       "<style scoped>\n",
       "    .dataframe tbody tr th:only-of-type {\n",
       "        vertical-align: middle;\n",
       "    }\n",
       "\n",
       "    .dataframe tbody tr th {\n",
       "        vertical-align: top;\n",
       "    }\n",
       "\n",
       "    .dataframe thead th {\n",
       "        text-align: right;\n",
       "    }\n",
       "</style>\n",
       "<table border=\"1\" class=\"dataframe\">\n",
       "  <thead>\n",
       "    <tr style=\"text-align: right;\">\n",
       "      <th></th>\n",
       "      <th>Key</th>\n",
       "      <th>Created</th>\n",
       "      <th>Closed</th>\n",
       "      <th>Complaint</th>\n",
       "      <th>...</th>\n",
       "      <th>Description</th>\n",
       "      <th>Boro</th>\n",
       "      <th>Latitude</th>\n",
       "      <th>Longitude</th>\n",
       "    </tr>\n",
       "  </thead>\n",
       "  <tbody>\n",
       "    <tr>\n",
       "      <td>0</td>\n",
       "      <td>45531130</td>\n",
       "      <td>2020-02-02...</td>\n",
       "      <td>NaT</td>\n",
       "      <td>Hotwater</td>\n",
       "      <td>...</td>\n",
       "      <td>The follo...</td>\n",
       "      <td>MANHATTAN</td>\n",
       "      <td>40.765132</td>\n",
       "      <td>-73.988993</td>\n",
       "    </tr>\n",
       "  </tbody>\n",
       "</table>\n",
       "<p>6019843 rows × 14 columns</p>\n",
       "</div>"
      ],
      "text/plain": [
       "         Key       Created Closed Complaint  ...   Description       Boro  \\\n",
       "0   45531130 2020-02-02...    NaT  Hotwater  ...  The follo...  MANHATTAN   \n",
       "..       ...           ...    ...       ...  ...           ...        ...   \n",
       "\n",
       "     Latitude  Longitude  \n",
       "0   40.765132 -73.988993  \n",
       "..        ...        ...  \n",
       "\n",
       "[6019843 rows x 14 columns]"
      ]
     },
     "execution_count": 2,
     "metadata": {},
     "output_type": "execute_result"
    },
    {
     "data": {
      "text/html": [
       "<div>\n",
       "<style scoped>\n",
       "    .dataframe tbody tr th:only-of-type {\n",
       "        vertical-align: middle;\n",
       "    }\n",
       "\n",
       "    .dataframe tbody tr th {\n",
       "        vertical-align: top;\n",
       "    }\n",
       "\n",
       "    .dataframe thead th {\n",
       "        text-align: right;\n",
       "    }\n",
       "</style>\n",
       "<table border=\"1\" class=\"dataframe\">\n",
       "  <thead>\n",
       "    <tr style=\"text-align: right;\">\n",
       "      <th></th>\n",
       "      <th>Borough</th>\n",
       "      <th>Block</th>\n",
       "      <th>Lot</th>\n",
       "      <th>CD</th>\n",
       "      <th>...</th>\n",
       "      <th>PFIRM15_FLAG</th>\n",
       "      <th>Version</th>\n",
       "      <th>FIRM07_Flag</th>\n",
       "      <th>PFIRM15_Flag</th>\n",
       "    </tr>\n",
       "  </thead>\n",
       "  <tbody>\n",
       "    <tr>\n",
       "      <td>0</td>\n",
       "      <td>BK</td>\n",
       "      <td>1</td>\n",
       "      <td>1</td>\n",
       "      <td>302</td>\n",
       "      <td>...</td>\n",
       "      <td>1.0</td>\n",
       "      <td>18V1</td>\n",
       "      <td>NaN</td>\n",
       "      <td>NaN</td>\n",
       "    </tr>\n",
       "  </tbody>\n",
       "</table>\n",
       "<p>859212 rows × 89 columns</p>\n",
       "</div>"
      ],
      "text/plain": [
       "   Borough  Block  Lot   CD  ...  PFIRM15_FLAG  Version  FIRM07_Flag  \\\n",
       "0       BK      1    1  302  ...           1.0     18V1          NaN   \n",
       "..     ...    ...  ...  ...  ...           ...      ...          ...   \n",
       "\n",
       "    PFIRM15_Flag  \n",
       "0            NaN  \n",
       "..           ...  \n",
       "\n",
       "[859212 rows x 89 columns]"
      ]
     },
     "execution_count": 2,
     "metadata": {},
     "output_type": "execute_result"
    }
   ],
   "source": [
    "pd.set_option('max_rows', 1)\n",
    "pd.set_option('max_columns', 9)\n",
    "pd.set_option('max_colwidth', 13)\n",
    "\n",
    "df311\n",
    "pluto"
   ]
  },
  {
   "cell_type": "markdown",
   "metadata": {},
   "source": [
    "### Next Steps\n",
    "1. Add feature descriptions from pluto PDF\n",
    "1. Recompile datasets to test filename changes"
   ]
  }
 ],
 "metadata": {
  "kernelspec": {
   "display_name": "Python 3",
   "language": "python",
   "name": "python3"
  },
  "language_info": {
   "codemirror_mode": {
    "name": "ipython",
    "version": 3
   },
   "file_extension": ".py",
   "mimetype": "text/x-python",
   "name": "python",
   "nbconvert_exporter": "python",
   "pygments_lexer": "ipython3",
   "version": "3.7.4"
  }
 },
 "nbformat": 4,
 "nbformat_minor": 4
}
