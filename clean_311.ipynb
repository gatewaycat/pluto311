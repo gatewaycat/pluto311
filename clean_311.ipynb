{
 "cells": [
  {
   "cell_type": "code",
   "execution_count": 1,
   "metadata": {},
   "outputs": [],
   "source": [
    "from IPython.core.interactiveshell import InteractiveShell\n",
    "import numpy as np\n",
    "import pandas as pd\n",
    "import seaborn as sns\n",
    "import warnings\n",
    "\n",
    "InteractiveShell.ast_node_interactivity = \"all\""
   ]
  },
  {
   "cell_type": "code",
   "execution_count": 2,
   "metadata": {},
   "outputs": [],
   "source": [
    "## SPLIT oversized csv\n",
    "# ! cd data\n",
    "# ! split -l 4000000 311.csv\n",
    "# ! mv xaa 311a.csv\n",
    "# ! mv xab 311b.csv"
   ]
  },
  {
   "cell_type": "code",
   "execution_count": 3,
   "metadata": {},
   "outputs": [
    {
     "name": "stdout",
     "output_type": "stream",
     "text": [
      "CPU times: user 35.7 s, sys: 2.1 s, total: 37.8 s\n",
      "Wall time: 37 s\n"
     ]
    }
   ],
   "source": [
    "%%time\n",
    "\n",
    "with warnings.catch_warnings():\n",
    "    warnings.simplefilter(action='ignore', category=FutureWarning)\n",
    "\n",
    "    df311a = pd.read_csv('data/311a.csv', skiprows=None, nrows=None, index_col=0)\n",
    "    df311b = pd.read_csv('data/311b.csv', skiprows=None, nrows=None, index_col=0, header=None)\n",
    "\n",
    "df311b.columns = df311a.columns\n",
    "df311 = pd.concat([df311a, df311b])"
   ]
  },
  {
   "cell_type": "code",
   "execution_count": 4,
   "metadata": {},
   "outputs": [],
   "source": [
    "df311 = df311.rename(columns={\n",
    "    'Unique Key': 'Key',\n",
    "    'Created Date': 'Created',\n",
    "    'Closed Date': 'Closed',\n",
    "    'Complaint Type': 'Complaint',\n",
    "    'Location Type': 'Building_type',\n",
    "    'Incident Zip': 'Zip', # Must leave as float because some na\n",
    "    'Incident Address': 'Address',\n",
    "    'Street Name': 'Street',\n",
    "    'Address Type': 'Address_type',\n",
    "    'Resolution Description': 'Description',\n",
    "    'Borough': 'Boro'\n",
    "})"
   ]
  },
  {
   "cell_type": "code",
   "execution_count": 5,
   "metadata": {},
   "outputs": [
    {
     "name": "stdout",
     "output_type": "stream",
     "text": [
      "CPU times: user 33.8 s, sys: 541 ms, total: 34.3 s\n",
      "Wall time: 33.9 s\n"
     ]
    }
   ],
   "source": [
    "%%time\n",
    "df311.Created = pd.to_datetime(df311.Created, format='%m/%d/%Y %I:%M:%S %p')\n",
    "df311.Closed = pd.to_datetime(df311.Closed, format='%m/%d/%Y %I:%M:%S %p')"
   ]
  },
  {
   "cell_type": "code",
   "execution_count": 6,
   "metadata": {},
   "outputs": [
    {
     "data": {
      "text/html": [
       "<div>\n",
       "<style scoped>\n",
       "    .dataframe tbody tr th:only-of-type {\n",
       "        vertical-align: middle;\n",
       "    }\n",
       "\n",
       "    .dataframe tbody tr th {\n",
       "        vertical-align: top;\n",
       "    }\n",
       "\n",
       "    .dataframe thead th {\n",
       "        text-align: right;\n",
       "    }\n",
       "</style>\n",
       "<table border=\"1\" class=\"dataframe\">\n",
       "  <thead>\n",
       "    <tr style=\"text-align: right;\">\n",
       "      <th></th>\n",
       "      <th>Key</th>\n",
       "      <th>Created</th>\n",
       "      <th>Closed</th>\n",
       "      <th>Complaint</th>\n",
       "      <th>Building_type</th>\n",
       "      <th>...</th>\n",
       "      <th>Status</th>\n",
       "      <th>Description</th>\n",
       "      <th>Boro</th>\n",
       "      <th>Latitude</th>\n",
       "      <th>Longitude</th>\n",
       "    </tr>\n",
       "  </thead>\n",
       "  <tbody>\n",
       "    <tr>\n",
       "      <td>0</td>\n",
       "      <td>45531130</td>\n",
       "      <td>2020-02-02 06:09:17</td>\n",
       "      <td>NaT</td>\n",
       "      <td>HEAT/HOT WATER</td>\n",
       "      <td>RESIDENTIAL BUILDING</td>\n",
       "      <td>...</td>\n",
       "      <td>Open</td>\n",
       "      <td>The following complaint conditions are still o...</td>\n",
       "      <td>MANHATTAN</td>\n",
       "      <td>40.765132</td>\n",
       "      <td>-73.988993</td>\n",
       "    </tr>\n",
       "    <tr>\n",
       "      <td>...</td>\n",
       "      <td>...</td>\n",
       "      <td>...</td>\n",
       "      <td>...</td>\n",
       "      <td>...</td>\n",
       "      <td>...</td>\n",
       "      <td>...</td>\n",
       "      <td>...</td>\n",
       "      <td>...</td>\n",
       "      <td>...</td>\n",
       "      <td>...</td>\n",
       "      <td>...</td>\n",
       "    </tr>\n",
       "    <tr>\n",
       "      <td>6019842</td>\n",
       "      <td>44063737</td>\n",
       "      <td>2019-10-15 11:29:01</td>\n",
       "      <td>2019-10-15 21:19:45</td>\n",
       "      <td>PAINT/PLASTER</td>\n",
       "      <td>RESIDENTIAL BUILDING</td>\n",
       "      <td>...</td>\n",
       "      <td>Closed</td>\n",
       "      <td>The Department of Housing Preservation and Dev...</td>\n",
       "      <td>MANHATTAN</td>\n",
       "      <td>40.724749</td>\n",
       "      <td>-73.975269</td>\n",
       "    </tr>\n",
       "  </tbody>\n",
       "</table>\n",
       "<p>6019843 rows × 15 columns</p>\n",
       "</div>"
      ],
      "text/plain": [
       "              Key             Created              Closed       Complaint  \\\n",
       "0        45531130 2020-02-02 06:09:17                 NaT  HEAT/HOT WATER   \n",
       "...           ...                 ...                 ...             ...   \n",
       "6019842  44063737 2019-10-15 11:29:01 2019-10-15 21:19:45   PAINT/PLASTER   \n",
       "\n",
       "                Building_type  ...  Status  \\\n",
       "0        RESIDENTIAL BUILDING  ...    Open   \n",
       "...                       ...  ...     ...   \n",
       "6019842  RESIDENTIAL BUILDING  ...  Closed   \n",
       "\n",
       "                                               Description       Boro  \\\n",
       "0        The following complaint conditions are still o...  MANHATTAN   \n",
       "...                                                    ...        ...   \n",
       "6019842  The Department of Housing Preservation and Dev...  MANHATTAN   \n",
       "\n",
       "          Latitude  Longitude  \n",
       "0        40.765132 -73.988993  \n",
       "...            ...        ...  \n",
       "6019842  40.724749 -73.975269  \n",
       "\n",
       "[6019843 rows x 15 columns]"
      ]
     },
     "execution_count": 6,
     "metadata": {},
     "output_type": "execute_result"
    }
   ],
   "source": [
    "pd.options.display.max_columns = 10\n",
    "pd.options.display.max_rows = 2\n",
    "df311"
   ]
  },
  {
   "cell_type": "code",
   "execution_count": 7,
   "metadata": {},
   "outputs": [
    {
     "data": {
      "text/html": [
       "<div>\n",
       "<style scoped>\n",
       "    .dataframe tbody tr th:only-of-type {\n",
       "        vertical-align: middle;\n",
       "    }\n",
       "\n",
       "    .dataframe tbody tr th {\n",
       "        vertical-align: top;\n",
       "    }\n",
       "\n",
       "    .dataframe thead th {\n",
       "        text-align: right;\n",
       "    }\n",
       "</style>\n",
       "<table border=\"1\" class=\"dataframe\">\n",
       "  <thead>\n",
       "    <tr style=\"text-align: right;\">\n",
       "      <th></th>\n",
       "      <th>Latitude</th>\n",
       "      <th>Longitude</th>\n",
       "    </tr>\n",
       "  </thead>\n",
       "  <tbody>\n",
       "    <tr>\n",
       "      <td>count</td>\n",
       "      <td>5939172.0000</td>\n",
       "      <td>5939172.0000</td>\n",
       "    </tr>\n",
       "    <tr>\n",
       "      <td>mean</td>\n",
       "      <td>40.7542</td>\n",
       "      <td>-73.9199</td>\n",
       "    </tr>\n",
       "    <tr>\n",
       "      <td>std</td>\n",
       "      <td>0.0909</td>\n",
       "      <td>0.0568</td>\n",
       "    </tr>\n",
       "    <tr>\n",
       "      <td>min</td>\n",
       "      <td>40.4993</td>\n",
       "      <td>-74.2531</td>\n",
       "    </tr>\n",
       "    <tr>\n",
       "      <td>25%</td>\n",
       "      <td>40.6712</td>\n",
       "      <td>-73.9520</td>\n",
       "    </tr>\n",
       "    <tr>\n",
       "      <td>50%</td>\n",
       "      <td>40.7570</td>\n",
       "      <td>-73.9225</td>\n",
       "    </tr>\n",
       "    <tr>\n",
       "      <td>75%</td>\n",
       "      <td>40.8396</td>\n",
       "      <td>-73.8902</td>\n",
       "    </tr>\n",
       "    <tr>\n",
       "      <td>max</td>\n",
       "      <td>40.9129</td>\n",
       "      <td>-73.7008</td>\n",
       "    </tr>\n",
       "  </tbody>\n",
       "</table>\n",
       "</div>"
      ],
      "text/plain": [
       "          Latitude    Longitude\n",
       "count 5939172.0000 5939172.0000\n",
       "mean       40.7542     -73.9199\n",
       "std         0.0909       0.0568\n",
       "min        40.4993     -74.2531\n",
       "25%        40.6712     -73.9520\n",
       "50%        40.7570     -73.9225\n",
       "75%        40.8396     -73.8902\n",
       "max        40.9129     -73.7008"
      ]
     },
     "execution_count": 7,
     "metadata": {},
     "output_type": "execute_result"
    },
    {
     "data": {
      "text/plain": [
       "ADDRESS    5935078\n",
       "Name: Address_type, dtype: int64"
      ]
     },
     "execution_count": 7,
     "metadata": {},
     "output_type": "execute_result"
    },
    {
     "data": {
      "text/plain": [
       "Closed         5886253\n",
       "Open            133220\n",
       "In Progress        364\n",
       "Assigned             4\n",
       "Pending              2\n",
       "Name: Status, dtype: int64"
      ]
     },
     "execution_count": 7,
     "metadata": {},
     "output_type": "execute_result"
    },
    {
     "data": {
      "text/plain": [
       "Residence       5967008\n",
       "Apartment             5\n",
       "Buildingwide          4\n",
       "Public                2\n",
       "Name: Building_type, dtype: int64"
      ]
     },
     "execution_count": 7,
     "metadata": {},
     "output_type": "execute_result"
    },
    {
     "data": {
      "text/plain": [
       "Hotwater        1261574\n",
       "Heat             887850\n",
       "Plumbing         711141\n",
       "Paint            707695\n",
       "Construction     505941\n",
       "                 ...   \n",
       "Elevator           6725\n",
       "Structural           16\n",
       "Agency                9\n",
       "Vacancy               6\n",
       "Mold                  1\n",
       "Name: Complaint, Length: 21, dtype: int64"
      ]
     },
     "execution_count": 7,
     "metadata": {},
     "output_type": "execute_result"
    }
   ],
   "source": [
    "pd.options.display.max_rows = None\n",
    "\n",
    "pd.options.display.float_format = '{:.4f}'.format\n",
    "df311[['Latitude','Longitude']].describe()\n",
    "\n",
    "df311.Address_type.value_counts()\n",
    "df311 = df311.drop(columns=['Address_type'])\n",
    "\n",
    "df311.Status.value_counts()\n",
    "\n",
    "Building_type = {\n",
    "    'RESIDENTIAL BUILDING': 'Residence',\n",
    "    'Residential Building': 'Residence',\n",
    "    'Apartment':            'Apartment',\n",
    "    'Building-Wide':        'Buildingwide',\n",
    "    'Public Area':          'Public',\n",
    "}\n",
    "df311.Building_type = df311.Building_type.map(Building_type)\n",
    "df311.Building_type.value_counts()\n",
    "\n",
    "Complaint = {\n",
    "    'HEAT/HOT WATER':         'Hotwater',\n",
    "    'HEATING':                'Heat',\n",
    "    'PLUMBING':               'Plumbing',\n",
    "    'GENERAL CONSTRUCTION':   'Construction',\n",
    "    'UNSANITARY CONDITION':   'Unsanitary',\n",
    "    'PAINT - PLASTER':        'Paint',\n",
    "    'PAINT/PLASTER':          'Paint',\n",
    "    'ELECTRIC':               'Electric',\n",
    "    'NONCONST':               'Nonconstruction',\n",
    "    'DOOR/WINDOW':            'Door',\n",
    "    'WATER LEAK':             'Leak',\n",
    "    'GENERAL':                'General',\n",
    "    'FLOORING/STAIRS':        'Stairs',\n",
    "    'APPLIANCE':              'Appliance',\n",
    "    'HPD Literature Request': 'Literature',\n",
    "    'SAFETY':                 'Safety',\n",
    "    'OUTSIDE BUILDING':       'Outside',\n",
    "    'ELEVATOR':               'Elevator',\n",
    "    'Unsanitary Condition':   'Unsanitary',\n",
    "    'CONSTRUCTION':           'Construction',\n",
    "    'General':                'General',\n",
    "    'Safety':                 'Safety',\n",
    "    'STRUCTURAL':             'Structural',\n",
    "    'Plumbing':               'Plumbing',\n",
    "    'AGENCY':                 'Agency',\n",
    "    'VACANT APARTMENT':       'Vacancy',\n",
    "    'Outside Building':       'Outside',\n",
    "    'Appliance':              'Appliance',\n",
    "    'Mold':                   'Mold',\n",
    "    'Electric':               'Electric',\n",
    "}\n",
    "df311.Complaint = df311.Complaint.map(Complaint)\n",
    "pd.options.display.max_rows = 10\n",
    "df311.Complaint.value_counts()"
   ]
  },
  {
   "cell_type": "code",
   "execution_count": 8,
   "metadata": {},
   "outputs": [
    {
     "name": "stdout",
     "output_type": "stream",
     "text": [
      "CPU times: user 4.07 s, sys: 157 ms, total: 4.23 s\n",
      "Wall time: 3.87 s\n"
     ]
    },
    {
     "data": {
      "text/plain": [
       "Brooklyn         2026580\n",
       "Bronx            1860522\n",
       "New York         1204417\n",
       "Staten Island     101553\n",
       "Jamaica            97792\n",
       "                  ...   \n",
       "Glen Oaks            764\n",
       "Queens               491\n",
       "Floral Park          287\n",
       "Breezy Point         269\n",
       "New Hyde Park        112\n",
       "Name: City, Length: 47, dtype: int64"
      ]
     },
     "execution_count": 8,
     "metadata": {},
     "output_type": "execute_result"
    }
   ],
   "source": [
    "%%time\n",
    "\n",
    "# df311.City.isna().sum()\n",
    "# df311.index[df311.City.isna()]\n",
    "# df311.loc[2300:2350,'City'].str.title() # Yes, .str.title handles NaN\n",
    "\n",
    "df311.City = df311.City.str.title()\n",
    "pd.options.display.max_rows = 10\n",
    "df311.City.value_counts()"
   ]
  },
  {
   "cell_type": "code",
   "execution_count": 9,
   "metadata": {},
   "outputs": [
    {
     "name": "stdout",
     "output_type": "stream",
     "text": [
      "CPU times: user 1.69 s, sys: 16.4 ms, total: 1.7 s\n",
      "Wall time: 1.54 s\n"
     ]
    },
    {
     "data": {
      "text/plain": [
       "BROOKLYN         1739886\n",
       "BRONX            1617956\n",
       "MANHATTAN        1055225\n",
       "QUEENS            645971\n",
       "STATEN ISLAND      87584\n",
       "Name: Boro, dtype: int64"
      ]
     },
     "execution_count": 9,
     "metadata": {},
     "output_type": "execute_result"
    }
   ],
   "source": [
    "%%time\n",
    "df311.loc[df311.Boro=='Unspecified', 'Boro'] = np.nan\n",
    "\n",
    "pd.options.display.max_rows = None\n",
    "df311.Boro.value_counts()"
   ]
  },
  {
   "cell_type": "code",
   "execution_count": 10,
   "metadata": {},
   "outputs": [
    {
     "name": "stdout",
     "output_type": "stream",
     "text": [
      "CPU times: user 6.51 s, sys: 2.35 s, total: 8.86 s\n",
      "Wall time: 10 s\n"
     ]
    }
   ],
   "source": [
    "%time df311.to_pickle('data/311.pkl')"
   ]
  },
  {
   "cell_type": "code",
   "execution_count": 11,
   "metadata": {},
   "outputs": [
    {
     "name": "stdout",
     "output_type": "stream",
     "text": [
      "CPU times: user 17.2 s, sys: 709 ms, total: 17.9 s\n",
      "Wall time: 14.2 s\n"
     ]
    },
    {
     "data": {
      "text/html": [
       "<div>\n",
       "<style scoped>\n",
       "    .dataframe tbody tr th:only-of-type {\n",
       "        vertical-align: middle;\n",
       "    }\n",
       "\n",
       "    .dataframe tbody tr th {\n",
       "        vertical-align: top;\n",
       "    }\n",
       "\n",
       "    .dataframe thead th {\n",
       "        text-align: right;\n",
       "    }\n",
       "</style>\n",
       "<table border=\"1\" class=\"dataframe\">\n",
       "  <thead>\n",
       "    <tr style=\"text-align: right;\">\n",
       "      <th></th>\n",
       "      <th>count</th>\n",
       "      <th>unique</th>\n",
       "      <th>top</th>\n",
       "      <th>freq</th>\n",
       "    </tr>\n",
       "  </thead>\n",
       "  <tbody>\n",
       "    <tr>\n",
       "      <td>Complaint</td>\n",
       "      <td>6019843</td>\n",
       "      <td>21</td>\n",
       "      <td>Hotwater</td>\n",
       "      <td>1261574</td>\n",
       "    </tr>\n",
       "    <tr>\n",
       "      <td>Building_type</td>\n",
       "      <td>5967019</td>\n",
       "      <td>4</td>\n",
       "      <td>Residence</td>\n",
       "      <td>5967008</td>\n",
       "    </tr>\n",
       "    <tr>\n",
       "      <td>Address</td>\n",
       "      <td>5967018</td>\n",
       "      <td>182600</td>\n",
       "      <td>34 ARDEN STREET</td>\n",
       "      <td>14298</td>\n",
       "    </tr>\n",
       "    <tr>\n",
       "      <td>Street</td>\n",
       "      <td>5967018</td>\n",
       "      <td>6825</td>\n",
       "      <td>GRAND CONCOURSE</td>\n",
       "      <td>92450</td>\n",
       "    </tr>\n",
       "    <tr>\n",
       "      <td>City</td>\n",
       "      <td>5939569</td>\n",
       "      <td>47</td>\n",
       "      <td>Brooklyn</td>\n",
       "      <td>2026580</td>\n",
       "    </tr>\n",
       "    <tr>\n",
       "      <td>Status</td>\n",
       "      <td>6019843</td>\n",
       "      <td>5</td>\n",
       "      <td>Closed</td>\n",
       "      <td>5886253</td>\n",
       "    </tr>\n",
       "    <tr>\n",
       "      <td>Description</td>\n",
       "      <td>6012017</td>\n",
       "      <td>340</td>\n",
       "      <td>The Department of Housing Preservation and Dev...</td>\n",
       "      <td>1698990</td>\n",
       "    </tr>\n",
       "    <tr>\n",
       "      <td>Boro</td>\n",
       "      <td>5146622</td>\n",
       "      <td>5</td>\n",
       "      <td>BROOKLYN</td>\n",
       "      <td>1739886</td>\n",
       "    </tr>\n",
       "  </tbody>\n",
       "</table>\n",
       "</div>"
      ],
      "text/plain": [
       "                 count  unique  \\\n",
       "Complaint      6019843      21   \n",
       "Building_type  5967019       4   \n",
       "Address        5967018  182600   \n",
       "Street         5967018    6825   \n",
       "City           5939569      47   \n",
       "Status         6019843       5   \n",
       "Description    6012017     340   \n",
       "Boro           5146622       5   \n",
       "\n",
       "                                                             top     freq  \n",
       "Complaint                                               Hotwater  1261574  \n",
       "Building_type                                          Residence  5967008  \n",
       "Address                                          34 ARDEN STREET    14298  \n",
       "Street                                           GRAND CONCOURSE    92450  \n",
       "City                                                    Brooklyn  2026580  \n",
       "Status                                                    Closed  5886253  \n",
       "Description    The Department of Housing Preservation and Dev...  1698990  \n",
       "Boro                                                    BROOKLYN  1739886  "
      ]
     },
     "execution_count": 11,
     "metadata": {},
     "output_type": "execute_result"
    }
   ],
   "source": [
    "%%time\n",
    "\n",
    "df311.isna().sum()\n",
    "\n",
    "pd.options.display.float_format = None\n",
    "pd.options.display.max_columns = 10\n",
    "pd.options.display.max_rows = 2\n",
    "df311\n",
    "\n",
    "pd.options.display.float_format = '{:.1f}'.format\n",
    "pd.options.display.max_columns = None\n",
    "pd.options.display.max_rows = None\n",
    "df311.describe().T\n",
    "df311.describe(include='object').T"
   ]
  },
  {
   "cell_type": "markdown",
   "metadata": {},
   "source": [
    "### Next Steps\n",
    "1. Investigate whether `Address_type == ADDRESS` versus `== NaN` is meaningful.\n",
    "   If so, do not drop the `Address_type` column"
   ]
  }
 ],
 "metadata": {
  "kernelspec": {
   "display_name": "Python 3",
   "language": "python",
   "name": "python3"
  },
  "language_info": {
   "codemirror_mode": {
    "name": "ipython",
    "version": 3
   },
   "file_extension": ".py",
   "mimetype": "text/x-python",
   "name": "python",
   "nbconvert_exporter": "python",
   "pygments_lexer": "ipython3",
   "version": "3.7.4"
  }
 },
 "nbformat": 4,
 "nbformat_minor": 4
}
